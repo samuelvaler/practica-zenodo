{
 "cells": [
  {
   "cell_type": "markdown",
   "id": "f4fbf4a3-9a9e-4863-9926-4900ca0a5d55",
   "metadata": {},
   "source": [
    "Dimensionality reduction lab: Mushroom data set\n",
    "===\n",
    "\n",
    "Data mining: Dimensionality reduction  \n",
    "Master en Ciencia de Datos  \n",
    "Universidad de Cantabria"
   ]
  },
  {
   "cell_type": "markdown",
   "id": "abc589b4-e1a4-4e7b-97e9-5578914625f3",
   "metadata": {},
   "source": [
    "## Data set description\n",
    "\n",
    "This dataset includes descriptions of hypothetical samples corresponding to 23 species of gilled mushrooms in the Agaricus and Lepiota Family Mushroom drawn from The Audubon Society Field Guide to North American Mushrooms (1981). Each species is identified as definitely edible, definitely poisonous, or of unknown edibility and not recommended. This latter class was combined with the poisonous one. The Guide clearly states that there is no simple rule for determining the edibility of a mushroom; no rule like \"leaflets three, let it be'' for Poisonous Oak and Ivy.\n",
    "\n",
    "## Goal\n",
    "\n",
    "Apply dimensionality reduction techniques to explore the data set visually.\n",
    "\n",
    "## Tasks\n",
    "1. Apply PCA to map the data set. Color the data according to their class.\n",
    "2. Check if you can obtain a better result with LDA.\n",
    "3. Apply tSNE to map the data set.\n",
    "4. Check if any other nonlinear dimensionality reduction technique seen during the course can improve tSNE's results.\n",
    "5. Optional: Use plotly to plot the previous dimensionality reductions in 3D instead of 2D."
   ]
  },
  {
   "cell_type": "code",
   "execution_count": null,
   "id": "7b4ae4ea-6f65-4c05-a023-9ba89db838d4",
   "metadata": {},
   "outputs": [],
   "source": [
    "# load packages\n",
    "import numpy as np\n",
    "import matplotlib.pyplot as plt\n",
    "import pandas as pd"
   ]
  },
  {
   "cell_type": "markdown",
   "id": "507429ee-9e82-45df-8e15-c13693f1df7d",
   "metadata": {},
   "source": [
    "## Data"
   ]
  },
  {
   "cell_type": "code",
   "execution_count": null,
   "id": "0f56e1b8-05d9-4a17-b42e-67ac53ab708b",
   "metadata": {},
   "outputs": [],
   "source": [
    "# load and visualize the data\n",
    "df = pd.read_csv('data/mushrooms.csv')\n",
    "pd.options.display.max_columns = None\n",
    "df.head()"
   ]
  },
  {
   "cell_type": "code",
   "execution_count": null,
   "id": "5de25a33-d70f-4959-b4ae-8e0947db1c15",
   "metadata": {},
   "outputs": [],
   "source": [
    "df.shape"
   ]
  },
  {
   "cell_type": "markdown",
   "id": "b951c826-b5ae-4857-a5a4-32bf51a5221a",
   "metadata": {},
   "source": [
    "### Preprocess the data"
   ]
  },
  {
   "cell_type": "code",
   "execution_count": null,
   "id": "bafa9281-32f8-4201-ae2e-fd6152f15abc",
   "metadata": {},
   "outputs": [],
   "source": [
    "# Split features and target\n",
    "X = df.drop(['class'], axis = 1)\n",
    "y = df['class']"
   ]
  },
  {
   "cell_type": "code",
   "execution_count": null,
   "id": "a87a1ef9-41ba-46da-a2e2-c889f8ced8c6",
   "metadata": {},
   "outputs": [],
   "source": [
    "# Onehot encode categorical variables\n",
    "X = pd.get_dummies(X, prefix_sep='_')\n",
    "X.head()"
   ]
  },
  {
   "cell_type": "code",
   "execution_count": null,
   "id": "e15b4ac5-7e48-4075-a9b2-ecf63bdba014",
   "metadata": {},
   "outputs": [],
   "source": [
    "print(f'Original column count = {len(df.columns)}, Onehot encoded column count = {len(X.columns)}')"
   ]
  },
  {
   "cell_type": "code",
   "execution_count": null,
   "id": "14292c4f-2805-42ad-9109-f704b3575116",
   "metadata": {},
   "outputs": [],
   "source": [
    "# Label encode target variable\n",
    "y = LabelEncoder().fit_transform(y)\n",
    "y"
   ]
  },
  {
   "cell_type": "code",
   "execution_count": null,
   "id": "59c013b3-cdbd-485f-b66e-6cab33efd7c1",
   "metadata": {},
   "outputs": [],
   "source": [
    "# Scale features\n",
    "X = StandardScaler().fit_transform(X)"
   ]
  },
  {
   "cell_type": "markdown",
   "id": "9877b4a8-7656-4e42-9ac7-44853f6ecdf9",
   "metadata": {},
   "source": [
    "## Apply PCA"
   ]
  },
  {
   "cell_type": "code",
   "execution_count": null,
   "id": "e510f1ec-f0b9-456e-9bf3-af407b05ceae",
   "metadata": {},
   "outputs": [],
   "source": []
  },
  {
   "cell_type": "markdown",
   "id": "cd925902-4140-46cb-b1df-b26a96cccb3d",
   "metadata": {},
   "source": [
    "## Apply LDA"
   ]
  },
  {
   "cell_type": "code",
   "execution_count": null,
   "id": "cb7fb985-043b-4c48-81de-68c5ee0b0a32",
   "metadata": {},
   "outputs": [],
   "source": []
  },
  {
   "cell_type": "markdown",
   "id": "0fa4ec38-ff6e-4c1d-96d8-7aea676698f0",
   "metadata": {},
   "source": [
    "## Apply tSNE"
   ]
  },
  {
   "cell_type": "code",
   "execution_count": null,
   "id": "eeab10ad-79d8-42a4-99b6-ba4dc86d8a13",
   "metadata": {},
   "outputs": [],
   "source": []
  },
  {
   "cell_type": "markdown",
   "id": "9e24712b-05f4-4f1d-bb11-15dd33c28292",
   "metadata": {},
   "source": [
    "## Apply other nonlinear techniques"
   ]
  },
  {
   "cell_type": "code",
   "execution_count": null,
   "id": "863af047-0c23-40be-ae46-b85f7b4f94ab",
   "metadata": {},
   "outputs": [],
   "source": []
  },
  {
   "cell_type": "markdown",
   "id": "5729dc66-3a78-409b-a343-f82f51046c65",
   "metadata": {},
   "source": [
    "## Use plotly to produce 3D plots of the reduced data"
   ]
  },
  {
   "cell_type": "code",
   "execution_count": null,
   "id": "56b81791-4fe4-421a-81a4-dce42a84e3a3",
   "metadata": {},
   "outputs": [],
   "source": []
  }
 ],
 "metadata": {
  "kernelspec": {
   "display_name": "Python 3 (ipykernel)",
   "language": "python",
   "name": "python3"
  },
  "language_info": {
   "codemirror_mode": {
    "name": "ipython",
    "version": 3
   },
   "file_extension": ".py",
   "mimetype": "text/x-python",
   "name": "python",
   "nbconvert_exporter": "python",
   "pygments_lexer": "ipython3",
   "version": "3.10.6"
  }
 },
 "nbformat": 4,
 "nbformat_minor": 5
}
